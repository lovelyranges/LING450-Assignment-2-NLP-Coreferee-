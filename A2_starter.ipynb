{
 "cells": [
  {
   "cell_type": "markdown",
   "id": "c1f904b1",
   "metadata": {},
   "source": [
    "# Assignment 2 starter code\n",
    "This notebook contains code to run [coreferee](https://github.com/explosion/coreferee), a coreference system running under spaCy to extract coreference chains (or clusters) from text.\n",
    "To run the notebook, you first have to intall coreferee. See instructions here: https://spacy.io/universe/project/coreferee, but mostly what you need to do is, from a command prompt:\n",
    "\n",
    "    $ python -m pip install coreferee\n",
    "$ python -m coreferee install en\n",
    "    \n",
    "You'll also need to download the spaCy transformer model for English, which needs the large model as well. \n",
    "It turns out, spacy has just released new versions and coreferee is not yet compatible with them, so you need to download specific versions of each model:\n",
    "\n",
    "    $ python -m pip install https://github.com/explosion/spacy-models/releases/download/en_core_web_lg-3.4.0/en_core_web_lg-3.4.0.tar.gz \n",
    "$ python -m pip install https://github.com/explosion/spacy-models/releases/download/en_core_web_trf-3.4.0/en_core_web_trf-3.4.0.tar.gz\n",
    "\n",
    "If you are running this on binder, then do these things in the next two cells instead"
   ]
  },
  {
   "cell_type": "markdown",
   "id": "b84a809e",
   "metadata": {},
   "source": [
    "## Part 1: Run coreferee"
   ]
  },
  {
   "cell_type": "markdown",
   "id": "85dfe06b",
   "metadata": {},
   "source": [
    "### Binder only"
   ]
  },
  {
   "cell_type": "code",
   "execution_count": null,
   "id": "d09826c3",
   "metadata": {},
   "outputs": [],
   "source": [
    "# run this cell only if you are on Binder\n",
    "\n",
    "!python3 -m pip install coreferee\n",
    "!python3 -m coreferee install en"
   ]
  },
  {
   "cell_type": "code",
   "execution_count": null,
   "id": "2c779822",
   "metadata": {},
   "outputs": [],
   "source": [
    "# run this cell only if you are on Binder\n",
    "\n",
    "!python -m pip install https://github.com/explosion/spacy-models/releases/download/en_core_web_lg-3.4.0/en_core_web_lg-3.4.0.tar.gz\n",
    "!python -m pip install https://github.com/explosion/spacy-models/releases/download/en_core_web_trf-3.4.0/en_core_web_trf-3.4.0.tar.gz"
   ]
  },
  {
   "cell_type": "markdown",
   "id": "75fdac91",
   "metadata": {},
   "source": [
    "### End of Binder only"
   ]
  },
  {
   "cell_type": "code",
   "execution_count": 36,
   "id": "3ba9cc76",
   "metadata": {},
   "outputs": [
    {
     "data": {
      "text/plain": [
       "<coreferee.manager.CorefereeBroker at 0x7faf512a5d30>"
      ]
     },
     "execution_count": 36,
     "metadata": {},
     "output_type": "execute_result"
    }
   ],
   "source": [
    "# import what we need, load the transformer model, \n",
    "# add coreferee to the spacy nlp pipeline\n",
    "\n",
    "import coreferee, spacy\n",
    "nlp = spacy.load('en_core_web_trf')\n",
    "nlp.add_pipe('coreferee')"
   ]
  },
  {
   "cell_type": "code",
   "execution_count": 58,
   "id": "142f2a34",
   "metadata": {},
   "outputs": [],
   "source": [
    "# this is just a test, so that you can see what the coreference chains look like\n",
    "# you may get a CUDA warning here. As long as it's only a warning, things should run just fine\n",
    "\n",
    "doc = nlp(\"Although he was very busy with his work, Peter had had enough of it. 'God, I'm frustrated!', he said. He and his wife decided they needed a holiday. They travelled to Spain because they loved the country very much.\")"
   ]
  },
  {
   "cell_type": "code",
   "execution_count": 60,
   "id": "ef2b678b",
   "metadata": {},
   "outputs": [
    {
     "name": "stdout",
     "output_type": "stream",
     "text": [
      "0: he(1), his(6), Peter(9), he(25), He(28), his(30)\n",
      "1: work(7), it(14)\n",
      "2: [He(28); wife(31)], they(33), They(38), they(43)\n",
      "3: Spain(41), country(46)\n",
      "[Peter]\n"
     ]
    }
   ],
   "source": [
    "# now we print the coreference chains found\n",
    "\n",
    "doc._.coref_chains.print()\n",
    "\n",
    "print(doc._.coref_chains.resolve(doc[25]))"
   ]
  },
  {
   "cell_type": "markdown",
   "id": "bfec2dd0",
   "metadata": {},
   "source": [
    "A few things to note about the output:\n",
    "\n",
    "* We have 4 coreference chains, relating to: *Peter, work, wife(+Peter), Spain*\n",
    "* Coreferee is able to deal with cataphora, where the pronoun (*he*) appears before the referent (*Peter*)\n",
    "* Coreferee can deal with groups: *\\[he+wife\\], they*\n",
    "* The wife does not appear as an entity with a chain, because there is no referring expression to that entity. It only appears as part of *he and his wife*"
   ]
  },
  {
   "cell_type": "code",
   "execution_count": 40,
   "id": "64c50053",
   "metadata": {},
   "outputs": [
    {
     "name": "stdout",
     "output_type": "stream",
     "text": [
      "[Peter, wife]\n"
     ]
    }
   ],
   "source": [
    "# once we have an index for a particular referring expression, \n",
    "# we can ask coreferee to resolve it. For instance, printing\n",
    "# the following expression gives us the referent for \n",
    "# the referring expression 31 (they)\n",
    "\n",
    "print(doc._.coref_chains.resolve(doc[31]))"
   ]
  },
  {
   "cell_type": "markdown",
   "id": "b23e0665",
   "metadata": {},
   "source": [
    "### Run coreferee on local files"
   ]
  },
  {
   "cell_type": "code",
   "execution_count": 47,
   "id": "68fdfc84",
   "metadata": {},
   "outputs": [],
   "source": [
    "# do coreference chains for 5 documents in the data/ directory\n",
    "# below is a sample for the first text\n",
    "\n",
    "# COREFERENCE 5 TEXTS\n",
    "\n",
    "with open (\"data/5c1dbe1d1e67d78e2797d611.txt\", \"r\", encoding='utf-8') as f:\n",
    "    text1 = f.read()\n",
    "with open (\"data/5c1dccbf1e67d78e279807d8.txt\", \"r\", encoding='utf-8') as f:\n",
    "    text2 = f.read()\n",
    "with open (\"data/5c1de1661e67d78e27984d34.txt\", \"r\", encoding='utf-8') as f:\n",
    "    text3 = f.read()\n",
    "with open (\"data/5c1e0b68795bd2a5d03a49a9.txt\", \"r\", encoding='utf-8') as f:\n",
    "    text4 = f.read()\n",
    "with open (\"data/5c1efb3d1e67d78e279bd39a.txt\", \"r\", encoding='utf-8') as f:\n",
    "    text5 = f.read()\n",
    "    \n",
    "# DISPLACY 5 TEXTS\n",
    "    \n",
    "with open (\"data/5c5d3e251e67d78e275e54b5.txt\", \"r\", encoding='utf-8') as f:\n",
    "    text6 = f.read()\n",
    "with open (\"data/5c5d3f0a1e67d78e275e5788.txt\", \"r\", encoding='utf-8') as f:\n",
    "    text7 = f.read()\n",
    "with open (\"data/5c5d532a795bd2d5c282a094.txt\", \"r\", encoding='utf-8') as f:\n",
    "    text8 = f.read()\n",
    "with open (\"data/5c5da7aa1e67d78e275f8a3c.txt\", \"r\", encoding='utf-8') as f:\n",
    "    text9 = f.read()\n",
    "with open (\"data/5c5e50711e67d78e27616b23.txt\", \"r\", encoding='utf-8') as f:\n",
    "    text10 = f.read()\n"
   ]
  },
  {
   "cell_type": "markdown",
   "id": "658f0d6e",
   "metadata": {},
   "source": [
    "#### for Rachel's reference\n",
    "\n",
    "5c1dbe1d1e67d78e2797d611.txt\n",
    "\n",
    "5c1dccbf1e67d78e279807d8.txt\n",
    "\n",
    "5c1de1661e67d78e27984d34.txt\n",
    "\n",
    "5c1e0b68795bd2a5d03a49a9.txt\n",
    "\n",
    "5c1efb3d1e67d78e279bd39a.txt"
   ]
  },
  {
   "cell_type": "markdown",
   "id": "7386e94c",
   "metadata": {},
   "source": [
    "#### for Antanila's reference\n",
    "\n",
    "5c5d3e251e67d78e275e54b5.txt\n",
    "\n",
    "5c5d3f0a1e67d78e275e5788.txt\n",
    "\n",
    "5c5d532a795bd2d5c282a094.txt\n",
    "\n",
    "5c5da7aa1e67d78e275f8a3c.txt\n",
    "\n",
    "5c5e50711e67d78e27616b23.txt\n",
    "    "
   ]
  },
  {
   "cell_type": "code",
   "execution_count": 48,
   "id": "6818bcf6",
   "metadata": {},
   "outputs": [],
   "source": [
    "#coreferee texts\n",
    "doc1 = nlp(text1)\n",
    "doc2 = nlp(text2)\n",
    "doc3 = nlp(text3)\n",
    "doc4 = nlp(text4)\n",
    "doc5 = nlp(text5)\n",
    "\n",
    "#displacy texts\n",
    "\n",
    "doc6 = nlp(text6)\n",
    "doc7 = nlp(text7)\n",
    "doc8 = nlp(text8)\n",
    "doc9 = nlp(text9)\n",
    "doc10 = nlp(text10)"
   ]
  },
  {
   "cell_type": "markdown",
   "id": "1def9e75",
   "metadata": {},
   "source": [
    "#### DOCUMENT 1 COREFERENCE CHAINS"
   ]
  },
  {
   "cell_type": "code",
   "execution_count": 51,
   "id": "7d1dfdea",
   "metadata": {},
   "outputs": [
    {
     "name": "stdout",
     "output_type": "stream",
     "text": [
      "0: couple(9), couple(76)\n",
      "1: years(16), their(19)\n",
      "2: letter(48), them(59), they(78)\n",
      "3: Ayo(72), Ayo(150)\n",
      "4: custody(87), it(96)\n",
      "5: News(112), News(136)\n",
      "6: fact(117), It(165)\n",
      "7: orphanage(161), orphanage(206)\n",
      "8: letter(171), letter(219)\n",
      "9: Kim(174), Kim(211)\n",
      "10: children(254), their(266)\n",
      "11: adoption(300), adoption(333)\n",
      "12: headlines(317), they(325)\n",
      "13: Kim(338), Kim(401), Kim(425), her(437), she(452)\n",
      "14: Nigeria(345), country(359)\n",
      "15: papers(372), them(376)\n",
      "16: Clark(395), Clark(432), He(444), him(478), him(486), him(496), he(501)\n",
      "17: [Kim(401); son(404)], their(403)\n",
      "18: Canada(474), They(484)\n",
      "19: Nigeria(489), They(494)\n",
      "20: Morans(561), Morans(602)\n",
      "21: family(578), family(636), they(658), their(660), they(684)\n",
      "22: government(589), it(598)\n",
      "23: Kim(633), she(652), she(695)\n",
      "24: agency(648), it(672)\n"
     ]
    }
   ],
   "source": [
    "doc1._.coref_chains.print()"
   ]
  },
  {
   "cell_type": "markdown",
   "id": "99bc8181",
   "metadata": {},
   "source": [
    "#### DOCUMENT 2 COREFERENCE CHAINS"
   ]
  },
  {
   "cell_type": "code",
   "execution_count": 52,
   "id": "8c2f5b25",
   "metadata": {},
   "outputs": [
    {
     "name": "stdout",
     "output_type": "stream",
     "text": [
      "0: his(5), him(23), gatekeeper(33)\n",
      "1: Mall(19), Mall(100)\n",
      "2: visitors(36), their(44)\n",
      "3: Roarke(70), his(80)\n",
      "4: Press(97), Press(105)\n",
      "5: Espinos(135), his(146)\n",
      "6: Press(183), its(188)\n",
      "7: superheroes(248), They(250), they(270)\n",
      "8: creator(373), their(417)\n",
      "9: Espinos(378), his(382), He(422), his(432)\n",
      "10: their(437), [Markowitz(450); guy(459)]\n",
      "11: publisher(487), They(514), They(524)\n",
      "12: Campbell(496), his(509)\n",
      "13: Campbell(534), his(550), His(557), his(569)\n",
      "14: maverick(598), his(602), he(608), he(631), his(642)\n",
      "15: Campbell(668), His(694), his(706)\n",
      "16: tons(691), They(734)\n",
      "17: trainer(717), It(754)\n",
      "18: None(767), it(774)\n",
      "19: two(817), It(877)\n",
      "20: resident(896), his(903)\n",
      "21: copy(936), it(943)\n",
      "22: all(945), it(948), it(969)\n",
      "23: Xander(992), he(997)\n",
      "24: dad(1005), he(1023), he(1039)\n"
     ]
    }
   ],
   "source": [
    "doc2._.coref_chains.print()\n"
   ]
  },
  {
   "cell_type": "markdown",
   "id": "6df0851e",
   "metadata": {},
   "source": [
    "#### DOCUMENT 3 COREFERENCE CHAINS "
   ]
  },
  {
   "cell_type": "code",
   "execution_count": 53,
   "id": "950175b1",
   "metadata": {},
   "outputs": [
    {
     "name": "stdout",
     "output_type": "stream",
     "text": [
      "0: Scheer(5), Scheer(24)\n",
      "1: Trudeau(10), Trudeau(29)\n",
      "2: Canada(21), Canada(48)\n",
      "3: [Trudeau(29); party(33)], them(40)\n",
      "4: Trudeau(76), his(87), His(107), Trudeau(113)\n",
      "5: Scheer(104), Scheer(119)\n",
      "6: [Scheer(119); Conservatives(122)], themselves(128)\n",
      "7: accusations(157), they(163)\n",
      "8: Convoy(187), his(236)\n",
      "9: pipelines(193), their(197), they(204)\n",
      "10: Scheer(242), he(244), his(259), Scheer(289)\n",
      "11: Twitter(284), it(291)\n",
      "12: reaction(294), it(303)\n",
      "13: defence(352), it(358)\n",
      "14: Chicken(365), he(401), he(406)\n",
      "15: language(388), it(391), it(425)\n",
      "16: WelcomeToCanada(440), Canada(525)\n",
      "17: U.S.(450), country(467)\n",
      "18: Trudeau(452), Trudeau(458), Trudeau(483), he(487)\n",
      "19: Scheer(462), Scheer(533), he(535), his(537), Scheer(570), he(659)\n",
      "20: [he(535); party(538)], they(545)\n",
      "21: system(633), it(643)\n",
      "22: Canada(653), It(666)\n",
      "23: Conservatives(675), Conservatives(728), Conservatives(765)\n",
      "24: spokeswoman(686), he(690)\n",
      "25: Trudeau(788), Trudeau(824), Trudeau(826)\n",
      "26: Conservatives(829), they(836)\n",
      "27: sovereignty(843), its(848)\n",
      "28: Trudeau(879), Trudeau(926), he(960)\n",
      "29: compact(889), compact(935)\n",
      "30: Scheer(923), Scheer(1010)\n",
      "31: hand(938), it(947)\n",
      "32: they(952), [Conservatives(966); thousands(970)]\n",
      "33: People(981), their(996)\n",
      "34: That(1014), It(1026)\n"
     ]
    }
   ],
   "source": [
    "doc3._.coref_chains.print()"
   ]
  },
  {
   "cell_type": "markdown",
   "id": "ad48bb09",
   "metadata": {},
   "source": [
    "#### DOCUMENT 4 COREFERENCE CHAINS"
   ]
  },
  {
   "cell_type": "code",
   "execution_count": 54,
   "id": "059b9418",
   "metadata": {
    "scrolled": true
   },
   "outputs": [
    {
     "name": "stdout",
     "output_type": "stream",
     "text": [
      "0: Vancouver(20), Vancouver(34)\n",
      "1: letter(44), it(50)\n",
      "2: tax(87), It(89)\n",
      "3: Vancouver(130), Vancouver(154)\n",
      "4: council(140), its(145)\n",
      "5: Some(161), they(170)\n",
      "6: tax(167), tax(235)\n",
      "7: Eby(191), his(210)\n",
      "8: those(231), they(237), they(252), They(284), their(292)\n",
      "9: Members(349), their(357)\n",
      "10: Stewart(369), his(373)\n",
      "11: Carr(419), her(428)\n",
      "12: Vancouverites(434), they(448), their(457), Vancouverites(514)\n",
      "13: Carr(483), Carr(517)\n",
      "14: owners(496), they(500)\n",
      "15: Fry(533), he(542), he(554), He(562), he(591), his(597)\n",
      "16: virtue(581), It(625)\n",
      "17: vote(589), vote(645)\n",
      "18: reservations(605), they(612)\n",
      "19: councillor(623), her(635)\n",
      "20: Fry(653), he(655), his(660), he(700), he(704), He(716), His(730), he(740), Fry(747), himself(749), He(771)\n",
      "21: province(664), province(690)\n",
      "22: that(719), it(728)\n",
      "23: council(758), it(774)\n",
      "24: motion(787), it(804)\n",
      "25: issues(816), their(823)\n",
      "26: One(827), them(838), they(842)\n"
     ]
    }
   ],
   "source": [
    "doc4._.coref_chains.print()"
   ]
  },
  {
   "cell_type": "markdown",
   "id": "2078b711",
   "metadata": {},
   "source": [
    "#### DOCUMENT 5 COREFERENCE CHAINS"
   ]
  },
  {
   "cell_type": "code",
   "execution_count": 55,
   "id": "b0d51f1c",
   "metadata": {},
   "outputs": [
    {
     "name": "stdout",
     "output_type": "stream",
     "text": [
      "0: Stella(38), Stella(90), Stella(134), Stella(207), Stella(280)\n",
      "1: union(46), union(77)\n",
      "2: the(68), It(81)\n",
      "3: workers(88), They(93), their(101)\n",
      "4: lot(126), It(137)\n",
      "5: restaurateurs(176), their(185)\n",
      "6: Traeger(214), He(236)\n",
      "7: union(233), union(239)\n",
      "8: their(270), [owners(282); Sohlberg(284); Abreder(287)], they(289), they(327)\n",
      "9: Traeger​(399), he(401), He(422), he(434)\n",
      "10: unionization(424), it(447)\n",
      "11: Stella(462), he(546)\n",
      "12: employees(465), they(475), they(498), their(505)\n",
      "13: ends(530), they(534), they(541)\n",
      "14: union(613), union(658)\n",
      "15: Stella(619), Stella(644)\n"
     ]
    }
   ],
   "source": [
    "doc5._.coref_chains.print()\n",
    "\n"
   ]
  },
  {
   "cell_type": "code",
   "execution_count": 43,
   "id": "cd24db2c",
   "metadata": {},
   "outputs": [
    {
     "name": "stdout",
     "output_type": "stream",
     "text": [
      "[Kim]\n"
     ]
    }
   ],
   "source": [
    "# example: who does she(452) refer to?\n",
    "\n",
    "print(doc1._.coref_chains.resolve(doc1[452]))"
   ]
  },
  {
   "cell_type": "code",
   "execution_count": 44,
   "id": "20e85fb3",
   "metadata": {},
   "outputs": [
    {
     "name": "stdout",
     "output_type": "stream",
     "text": [
      "Kim PERSON\n",
      "Clark Moran PERSON\n",
      "Ayo PERSON\n",
      "Kim PERSON\n",
      "Ayo PERSON\n",
      "Kim PERSON\n",
      "Clark PERSON\n",
      "Kim PERSON\n",
      "Ayo PERSON\n",
      "Morans PERSON\n",
      "Kim PERSON\n",
      "Ayo PERSON\n",
      "Clark PERSON\n",
      "Kim PERSON\n",
      "Kim PERSON\n",
      "Clark PERSON\n",
      "Ayo PERSON\n",
      "Kim PERSON\n",
      "Morans PERSON\n",
      "Ayo PERSON\n",
      "Kim PERSON\n",
      "Ben Miljure PERSON\n"
     ]
    }
   ],
   "source": [
    "# print referring expressions that are people\n",
    "# we are interested in those because they are the sources of quotes\n",
    "for ent in doc1.ents:\n",
    "    if ent.label_ in [\"PERSON\"]:\n",
    "        print(ent.text, ent.label_)"
   ]
  },
  {
   "cell_type": "markdown",
   "id": "a18f6199",
   "metadata": {},
   "source": [
    "## Side note: visualizations\n",
    "If you want to see this all in a much prettier format, you can use [displacy](https://spacy.io/usage/visualizers). "
   ]
  },
  {
   "cell_type": "code",
   "execution_count": 14,
   "id": "2c282893",
   "metadata": {},
   "outputs": [],
   "source": [
    "from spacy import displacy"
   ]
  },
  {
   "cell_type": "markdown",
   "id": "01bceb88",
   "metadata": {},
   "source": [
    "#### Document 1 Visualization"
   ]
  },
  {
   "cell_type": "code",
   "execution_count": 45,
   "id": "9313eadb",
   "metadata": {},
   "outputs": [
    {
     "data": {
      "text/html": [
       "<span class=\"tex2jax_ignore\"><div class=\"entities\" style=\"line-height: 2.5; direction: ltr\"> CTV Vancouver. </br> An Abbotsford, B.C. couple that has been waiting nearly two years to bring their newly adopted son home from Africa has learned that the Canadian government is not prepared to grant the child citizenship. </br> \n",
       "<mark class=\"entity\" style=\"background: green; padding: 0.45em 0.6em; margin: 0 0.25em; line-height: 1; border-radius: 0.35em;\">\n",
       "    Kim\n",
       "    <span style=\"font-size: 0.8em; font-weight: bold; line-height: 1; border-radius: 0.35em; vertical-align: middle; margin-left: 0.5rem\">PERSON</span>\n",
       "</mark>\n",
       " and \n",
       "<mark class=\"entity\" style=\"background: green; padding: 0.45em 0.6em; margin: 0 0.25em; line-height: 1; border-radius: 0.35em;\">\n",
       "    Clark Moran\n",
       "    <span style=\"font-size: 0.8em; font-weight: bold; line-height: 1; border-radius: 0.35em; vertical-align: middle; margin-left: 0.5rem\">PERSON</span>\n",
       "</mark>\n",
       " received a letter this week from Immigration, Refugees and Citizenship Canada informing them that the federal department has concerns about two-year-old \n",
       "<mark class=\"entity\" style=\"background: green; padding: 0.45em 0.6em; margin: 0 0.25em; line-height: 1; border-radius: 0.35em;\">\n",
       "    Ayo\n",
       "    <span style=\"font-size: 0.8em; font-weight: bold; line-height: 1; border-radius: 0.35em; vertical-align: middle; margin-left: 0.5rem\">PERSON</span>\n",
       "</mark>\n",
       ", whom the couple claims they adopted from an orphanage in Nigeria and gained custody of in August. </br> &quot;Honestly, it feels like we're living our worst nightmare right now,&quot; \n",
       "<mark class=\"entity\" style=\"background: green; padding: 0.45em 0.6em; margin: 0 0.25em; line-height: 1; border-radius: 0.35em;\">\n",
       "    Kim\n",
       "    <span style=\"font-size: 0.8em; font-weight: bold; line-height: 1; border-radius: 0.35em; vertical-align: middle; margin-left: 0.5rem\">PERSON</span>\n",
       "</mark>\n",
       " told CTV News Friday. &quot;The fact that we are being accused right now of an unethical adoption is crazy.&quot;. </br> CTV News has learned that a third party has come forward with an allegation that \n",
       "<mark class=\"entity\" style=\"background: green; padding: 0.45em 0.6em; margin: 0 0.25em; line-height: 1; border-radius: 0.35em;\">\n",
       "    Ayo\n",
       "    <span style=\"font-size: 0.8em; font-weight: bold; line-height: 1; border-radius: 0.35em; vertical-align: middle; margin-left: 0.5rem\">PERSON</span>\n",
       "</mark>\n",
       "'s adoption came from a private residence and not an orphanage. </br> &quot;It does say that in the letter,&quot; \n",
       "<mark class=\"entity\" style=\"background: green; padding: 0.45em 0.6em; margin: 0 0.25em; line-height: 1; border-radius: 0.35em;\">\n",
       "    Kim\n",
       "    <span style=\"font-size: 0.8em; font-weight: bold; line-height: 1; border-radius: 0.35em; vertical-align: middle; margin-left: 0.5rem\">PERSON</span>\n",
       "</mark>\n",
       " confirmed, adding that &quot;I have no idea where that information came from because both \n",
       "<mark class=\"entity\" style=\"background: green; padding: 0.45em 0.6em; margin: 0 0.25em; line-height: 1; border-radius: 0.35em;\">\n",
       "    Clark\n",
       "    <span style=\"font-size: 0.8em; font-weight: bold; line-height: 1; border-radius: 0.35em; vertical-align: middle; margin-left: 0.5rem\">PERSON</span>\n",
       "</mark>\n",
       " and I were there in the office with all of the workers from the orphanage.&quot;. </br> \n",
       "<mark class=\"entity\" style=\"background: green; padding: 0.45em 0.6em; margin: 0 0.25em; line-height: 1; border-radius: 0.35em;\">\n",
       "    Kim\n",
       "    <span style=\"font-size: 0.8em; font-weight: bold; line-height: 1; border-radius: 0.35em; vertical-align: middle; margin-left: 0.5rem\">PERSON</span>\n",
       "</mark>\n",
       " would not share a copy of the letter with CTV. </br> In a statement, IRCC did not reveal any details regarding the \n",
       "<mark class=\"entity\" style=\"background: green; padding: 0.45em 0.6em; margin: 0 0.25em; line-height: 1; border-radius: 0.35em;\">\n",
       "    Ayo\n",
       "    <span style=\"font-size: 0.8em; font-weight: bold; line-height: 1; border-radius: 0.35em; vertical-align: middle; margin-left: 0.5rem\">PERSON</span>\n",
       "</mark>\n",
       "'s paperwork, but said &quot;the Government of Canada has obligations under international conventions to ensure children are not abducted, bought or sold, or removed from their biological families without legal consent.&quot;. </br> The department added that &quot;in some cases, extra steps in the citizenship or immigration process may be needed to make sure the adoption meets all requirements of international adoption.&quot;. </br> The \n",
       "<mark class=\"entity\" style=\"background: green; padding: 0.45em 0.6em; margin: 0 0.25em; line-height: 1; border-radius: 0.35em;\">\n",
       "    Morans\n",
       "    <span style=\"font-size: 0.8em; font-weight: bold; line-height: 1; border-radius: 0.35em; vertical-align: middle; margin-left: 0.5rem\">PERSON</span>\n",
       "</mark>\n",
       "' story first made headlines in October, some three months after they first travelled to Africa to finalize the adoption. </br> According to \n",
       "<mark class=\"entity\" style=\"background: green; padding: 0.45em 0.6em; margin: 0 0.25em; line-height: 1; border-radius: 0.35em;\">\n",
       "    Kim\n",
       "    <span style=\"font-size: 0.8em; font-weight: bold; line-height: 1; border-radius: 0.35em; vertical-align: middle; margin-left: 0.5rem\">PERSON</span>\n",
       "</mark>\n",
       ", the Canadian high commission in Nigeria doesn't have an immigration office, so all adoptions out of that country have to be processed in Ghana. </br> Thinking that the immigration papers that would allow them to bring \n",
       "<mark class=\"entity\" style=\"background: green; padding: 0.45em 0.6em; margin: 0 0.25em; line-height: 1; border-radius: 0.35em;\">\n",
       "    Ayo\n",
       "    <span style=\"font-size: 0.8em; font-weight: bold; line-height: 1; border-radius: 0.35em; vertical-align: middle; margin-left: 0.5rem\">PERSON</span>\n",
       "</mark>\n",
       " back to B.C. wouldn't take more than a few weeks to be finalized, \n",
       "<mark class=\"entity\" style=\"background: green; padding: 0.45em 0.6em; margin: 0 0.25em; line-height: 1; border-radius: 0.35em;\">\n",
       "    Clark\n",
       "    <span style=\"font-size: 0.8em; font-weight: bold; line-height: 1; border-radius: 0.35em; vertical-align: middle; margin-left: 0.5rem\">PERSON</span>\n",
       "</mark>\n",
       " headed back to Canada while \n",
       "<mark class=\"entity\" style=\"background: green; padding: 0.45em 0.6em; margin: 0 0.25em; line-height: 1; border-radius: 0.35em;\">\n",
       "    Kim\n",
       "    <span style=\"font-size: 0.8em; font-weight: bold; line-height: 1; border-radius: 0.35em; vertical-align: middle; margin-left: 0.5rem\">PERSON</span>\n",
       "</mark>\n",
       " and their son remained in Accra. </br> It would be months, however, before the family got an update. </br> \n",
       "<mark class=\"entity\" style=\"background: green; padding: 0.45em 0.6em; margin: 0 0.25em; line-height: 1; border-radius: 0.35em;\">\n",
       "    Kim\n",
       "    <span style=\"font-size: 0.8em; font-weight: bold; line-height: 1; border-radius: 0.35em; vertical-align: middle; margin-left: 0.5rem\">PERSON</span>\n",
       "</mark>\n",
       " was forced to switch places with \n",
       "<mark class=\"entity\" style=\"background: green; padding: 0.45em 0.6em; margin: 0 0.25em; line-height: 1; border-radius: 0.35em;\">\n",
       "    Clark\n",
       "    <span style=\"font-size: 0.8em; font-weight: bold; line-height: 1; border-radius: 0.35em; vertical-align: middle; margin-left: 0.5rem\">PERSON</span>\n",
       "</mark>\n",
       " late last month after her multiple sclerosis flared up. </br> He is now in Ghana with \n",
       "<mark class=\"entity\" style=\"background: green; padding: 0.45em 0.6em; margin: 0 0.25em; line-height: 1; border-radius: 0.35em;\">\n",
       "    Ayo\n",
       "    <span style=\"font-size: 0.8em; font-weight: bold; line-height: 1; border-radius: 0.35em; vertical-align: middle; margin-left: 0.5rem\">PERSON</span>\n",
       "</mark>\n",
       " and she is back in B.C., but it's unclear what the family's future will look like. </br> &quot;If Canada doesn't grant him citizenship, what happens? They send him back to Nigeria to an orphanage? They take him from us even though he's legally our son?&quot; \n",
       "<mark class=\"entity\" style=\"background: green; padding: 0.45em 0.6em; margin: 0 0.25em; line-height: 1; border-radius: 0.35em;\">\n",
       "    Kim\n",
       "    <span style=\"font-size: 0.8em; font-weight: bold; line-height: 1; border-radius: 0.35em; vertical-align: middle; margin-left: 0.5rem\">PERSON</span>\n",
       "</mark>\n",
       " said. </br> IRCC has told CTV that under ideal circumstances, the two-step adoption and immigration process can take between six and eight months, but that timeframe can be as long as two years depending on the child's country of origin and other factors. </br> The \n",
       "<mark class=\"entity\" style=\"background: green; padding: 0.45em 0.6em; margin: 0 0.25em; line-height: 1; border-radius: 0.35em;\">\n",
       "    Morans\n",
       "    <span style=\"font-size: 0.8em; font-weight: bold; line-height: 1; border-radius: 0.35em; vertical-align: middle; margin-left: 0.5rem\">PERSON</span>\n",
       "</mark>\n",
       "' paperwork was received in February 2017. A year and 10 months later, the family's adoption process is at the top end of the government's estimated timeline, but has not exceeded it. </br> The Morans have 60 days to respond to the letter, and the IRCC stressed Friday that a final decision on \n",
       "<mark class=\"entity\" style=\"background: green; padding: 0.45em 0.6em; margin: 0 0.25em; line-height: 1; border-radius: 0.35em;\">\n",
       "    Ayo\n",
       "    <span style=\"font-size: 0.8em; font-weight: bold; line-height: 1; border-radius: 0.35em; vertical-align: middle; margin-left: 0.5rem\">PERSON</span>\n",
       "</mark>\n",
       "'s citizenship application has not yet been made. </br> \n",
       "<mark class=\"entity\" style=\"background: green; padding: 0.45em 0.6em; margin: 0 0.25em; line-height: 1; border-radius: 0.35em;\">\n",
       "    Kim\n",
       "    <span style=\"font-size: 0.8em; font-weight: bold; line-height: 1; border-radius: 0.35em; vertical-align: middle; margin-left: 0.5rem\">PERSON</span>\n",
       "</mark>\n",
       " said the family is working with an immigration lawyer as well as the adoption agency, whose name she would not reveal, as they weigh their options. </br> &quot;We're not giving up, but it feels really overwhelming to think about what this means and what they're trying to do to us right now,&quot; she said. </br> &quot;I can't believe that this is our life, that this is our story.&quot;. </br> With files from CTV Vancouver's \n",
       "<mark class=\"entity\" style=\"background: green; padding: 0.45em 0.6em; margin: 0 0.25em; line-height: 1; border-radius: 0.35em;\">\n",
       "    Ben Miljure\n",
       "    <span style=\"font-size: 0.8em; font-weight: bold; line-height: 1; border-radius: 0.35em; vertical-align: middle; margin-left: 0.5rem\">PERSON</span>\n",
       "</mark>\n",
       "</div></span>"
      ],
      "text/plain": [
       "<IPython.core.display.HTML object>"
      ]
     },
     "metadata": {},
     "output_type": "display_data"
    }
   ],
   "source": [
    "options = {\"ents\": [\"PERSON\"],\n",
    "          \"colors\": {\"PERSON\": \"green\"}}\n",
    "\n",
    "displacy.render(doc1, style=\"ent\", options=options, jupyter=True)"
   ]
  },
  {
   "cell_type": "markdown",
   "id": "eede5c75",
   "metadata": {},
   "source": [
    "#### Document 2 Visualization"
   ]
  },
  {
   "cell_type": "code",
   "execution_count": 29,
   "id": "0624c97f",
   "metadata": {},
   "outputs": [
    {
     "data": {
      "text/html": [
       "<span class=\"tex2jax_ignore\"><div class=\"entities\" style=\"line-height: 2.5; direction: ltr\">When I first walk into his store, a fantastical comic book shop lodged discreetly in Kitchener’s Frederick Mall, I spot him from the corner of my eye, the gracious gatekeeper who invites visitors into a world of fantasy and makes their dreams come true. No, I’m not talking about \n",
       "<mark class=\"entity\" style=\"background: purple; padding: 0.45em 0.6em; margin: 0 0.25em; line-height: 1; border-radius: 0.35em;\">\n",
       "    Ricardo Montalban\n",
       "    <span style=\"font-size: 0.8em; font-weight: bold; line-height: 1; border-radius: 0.35em; vertical-align: middle; margin-left: 0.5rem\">PERSON</span>\n",
       "</mark>\n",
       ", who played that rugged emissary of wish-fulfilment, Mr. \n",
       "<mark class=\"entity\" style=\"background: purple; padding: 0.45em 0.6em; margin: 0 0.25em; line-height: 1; border-radius: 0.35em;\">\n",
       "    Roarke\n",
       "    <span style=\"font-size: 0.8em; font-weight: bold; line-height: 1; border-radius: 0.35em; vertical-align: middle; margin-left: 0.5rem\">PERSON</span>\n",
       "</mark>\n",
       ", on TV’s Fantasy Island with help from his sidekick, \n",
       "<mark class=\"entity\" style=\"background: purple; padding: 0.45em 0.6em; margin: 0 0.25em; line-height: 1; border-radius: 0.35em;\">\n",
       "    Tattoo\n",
       "    <span style=\"font-size: 0.8em; font-weight: bold; line-height: 1; border-radius: 0.35em; vertical-align: middle; margin-left: 0.5rem\">PERSON</span>\n",
       "</mark>\n",
       ". </br> \n",
       "<mark class=\"entity\" style=\"background: purple; padding: 0.45em 0.6em; margin: 0 0.25em; line-height: 1; border-radius: 0.35em;\">\n",
       "    Alfonso Espinos\n",
       "    <span style=\"font-size: 0.8em; font-weight: bold; line-height: 1; border-radius: 0.35em; vertical-align: middle; margin-left: 0.5rem\">PERSON</span>\n",
       "</mark>\n",
       ", \n",
       "<mark class=\"entity\" style=\"background: purple; padding: 0.45em 0.6em; margin: 0 0.25em; line-height: 1; border-radius: 0.35em;\">\n",
       "    Andre Campbell\n",
       "    <span style=\"font-size: 0.8em; font-weight: bold; line-height: 1; border-radius: 0.35em; vertical-align: middle; margin-left: 0.5rem\">PERSON</span>\n",
       "</mark>\n",
       ", and \n",
       "<mark class=\"entity\" style=\"background: purple; padding: 0.45em 0.6em; margin: 0 0.25em; line-height: 1; border-radius: 0.35em;\">\n",
       "    Alexander Wise\n",
       "    <span style=\"font-size: 0.8em; font-weight: bold; line-height: 1; border-radius: 0.35em; vertical-align: middle; margin-left: 0.5rem\">PERSON</span>\n",
       "</mark>\n",
       " inside Studiocomix Press in Frederick Mall, Kitchene. Studiocomix Press is an indie comic-book publisher that will publish anything by anyone. ( \n",
       "<mark class=\"entity\" style=\"background: purple; padding: 0.45em 0.6em; margin: 0 0.25em; line-height: 1; border-radius: 0.35em;\">\n",
       "    Peter Lee\n",
       "    <span style=\"font-size: 0.8em; font-weight: bold; line-height: 1; border-radius: 0.35em; vertical-align: middle; margin-left: 0.5rem\">PERSON</span>\n",
       "</mark>\n",
       " / Waterloo Region Record ). </br> I’m talking about \n",
       "<mark class=\"entity\" style=\"background: purple; padding: 0.45em 0.6em; margin: 0 0.25em; line-height: 1; border-radius: 0.35em;\">\n",
       "    Alfonso Espinos\n",
       "    <span style=\"font-size: 0.8em; font-weight: bold; line-height: 1; border-radius: 0.35em; vertical-align: middle; margin-left: 0.5rem\">PERSON</span>\n",
       "</mark>\n",
       ", who like Montalban was born in Mexico and made his way to North America to fulfil dreams of a different kind. “We dedicate ourselves solely to independent comic books and local creators,’’ says the 39-year-old founder of Studiocomix Press, which recently celebrated its first birthday. The operation is Waterloo Region’s sole indie comic-book store that is also a printer and publisher — possibly the only one in Canada (or the world). “If you want Marvel, you can go to another comic book shop.”. </br> Article Continued Below. </br> Forget superheroes. They’re represented, but for Espinos — whose store carries works by 200 indie comic-book artists — they’re the tip of the iceberg. “You’re talking about one genre only,” points out the laid-back Cambridge resident, who moved to Canada 15 years ago. “The vast majority of artists do not do superhero comics. There’s sci-fi, horror, children’s, Westerns …” Festooned with colourful indie comics of all styles, genres and levels of expertise, the store is an inspiring tribute to the art of the possible — an escapist retreat with an empowering subtext. “I’m a comic book creator myself,” notes \n",
       "<mark class=\"entity\" style=\"background: purple; padding: 0.45em 0.6em; margin: 0 0.25em; line-height: 1; border-radius: 0.35em;\">\n",
       "    Espinos\n",
       "    <span style=\"font-size: 0.8em; font-weight: bold; line-height: 1; border-radius: 0.35em; vertical-align: middle; margin-left: 0.5rem\">PERSON</span>\n",
       "</mark>\n",
       ", who launched his career as a teenager in Mexico and met the now-deceased Marvel guru \n",
       "<mark class=\"entity\" style=\"background: purple; padding: 0.45em 0.6em; margin: 0 0.25em; line-height: 1; border-radius: 0.35em;\">\n",
       "    Stan Lee\n",
       "    <span style=\"font-size: 0.8em; font-weight: bold; line-height: 1; border-radius: 0.35em; vertical-align: middle; margin-left: 0.5rem\">PERSON</span>\n",
       "</mark>\n",
       " three times. </br> “I was on the other side 20 years ago. I understand what their needs are.” He’s being modest. To the people who seek his help creating and displaying their art, the ball-capped entrepreneur — whose clients include \n",
       "<mark class=\"entity\" style=\"background: purple; padding: 0.45em 0.6em; margin: 0 0.25em; line-height: 1; border-radius: 0.35em;\">\n",
       "    Mitch Markowitz\n",
       "    <span style=\"font-size: 0.8em; font-weight: bold; line-height: 1; border-radius: 0.35em; vertical-align: middle; margin-left: 0.5rem\">PERSON</span>\n",
       "</mark>\n",
       " from The Hilarious House of Frightenstein and the guy who played \n",
       "<mark class=\"entity\" style=\"background: purple; padding: 0.45em 0.6em; margin: 0 0.25em; line-height: 1; border-radius: 0.35em;\">\n",
       "    Joey Jeremiah\n",
       "    <span style=\"font-size: 0.8em; font-weight: bold; line-height: 1; border-radius: 0.35em; vertical-align: middle; margin-left: 0.5rem\">PERSON</span>\n",
       "</mark>\n",
       " on Degrassi Junior High — is less publisher than mentor, friend and overseer. </br> Article Continued Below. </br> “Every publisher rejected me,” says Cambridge cartoonist \n",
       "<mark class=\"entity\" style=\"background: purple; padding: 0.45em 0.6em; margin: 0 0.25em; line-height: 1; border-radius: 0.35em;\">\n",
       "    Andre Campbell\n",
       "    <span style=\"font-size: 0.8em; font-weight: bold; line-height: 1; border-radius: 0.35em; vertical-align: middle; margin-left: 0.5rem\">PERSON</span>\n",
       "</mark>\n",
       ", whose superhero in Starkeeper uses a wheelchair and is patterned after his own life. “They liked my stories, but not the art. They were looking for the DC Comics style.” \n",
       "<mark class=\"entity\" style=\"background: purple; padding: 0.45em 0.6em; margin: 0 0.25em; line-height: 1; border-radius: 0.35em;\">\n",
       "    Campbell\n",
       "    <span style=\"font-size: 0.8em; font-weight: bold; line-height: 1; border-radius: 0.35em; vertical-align: middle; margin-left: 0.5rem\">PERSON</span>\n",
       "</mark>\n",
       " has cerebral palsy, which creates physical challenges that make a computer critical for drawing his distinctive, visually arresting artwork. His universal message of diversity and inclusion? That comes directly from his brain. “In my experience, there hasn’t been a whole lot of representation of disabled characters in comics,” says the bow-tied maverick, noting that his disability doesn’t define who he is. “I wanted to emphasize that no matter who you are you can do anything.” In Espinos, he found a willing accomplice, a guy willing to nurture his vision without judgment. “Before I met \n",
       "<mark class=\"entity\" style=\"background: purple; padding: 0.45em 0.6em; margin: 0 0.25em; line-height: 1; border-radius: 0.35em;\">\n",
       "    Alfonso\n",
       "    <span style=\"font-size: 0.8em; font-weight: bold; line-height: 1; border-radius: 0.35em; vertical-align: middle; margin-left: 0.5rem\">PERSON</span>\n",
       "</mark>\n",
       ", I didn’t really have a lot of faith in the industry,” says \n",
       "<mark class=\"entity\" style=\"background: purple; padding: 0.45em 0.6em; margin: 0 0.25em; line-height: 1; border-radius: 0.35em;\">\n",
       "    Campbell\n",
       "    <span style=\"font-size: 0.8em; font-weight: bold; line-height: 1; border-radius: 0.35em; vertical-align: middle; margin-left: 0.5rem\">PERSON</span>\n",
       "</mark>\n",
       ", whose superhero was inspired, in part, by DC crime-fighter the Green Lantern. “Now I have tons.” His determination has paid off, with sales of 500 copies of his two comics turning the 29-year-old sensitivity trainer at Extend-A-Family into an inspiration for others with physical challenges. “They say, ‘Oh my God, you’re doing this? Maybe I can too!’ ” It’s not about scale or a guest spot on \n",
       "<mark class=\"entity\" style=\"background: purple; padding: 0.45em 0.6em; margin: 0 0.25em; line-height: 1; border-radius: 0.35em;\">\n",
       "    Jimmy Kimmel\n",
       "    <span style=\"font-size: 0.8em; font-weight: bold; line-height: 1; border-radius: 0.35em; vertical-align: middle; margin-left: 0.5rem\">PERSON</span>\n",
       "</mark>\n",
       ". None of Espinos’ clients are in it for the money. “Most places will not print anything less than 1,000 copies,” says Campbell’s partner, \n",
       "<mark class=\"entity\" style=\"background: purple; padding: 0.45em 0.6em; margin: 0 0.25em; line-height: 1; border-radius: 0.35em;\">\n",
       "    Jason Louth\n",
       "    <span style=\"font-size: 0.8em; font-weight: bold; line-height: 1; border-radius: 0.35em; vertical-align: middle; margin-left: 0.5rem\">PERSON</span>\n",
       "</mark>\n",
       ". The Studiocomix minimum is … “One!” says the affable proprietor. “No, two … (laughs) one goes on the shelf.” Never mind the sales figures. There is a particular satisfaction, insists 16-year-old \n",
       "<mark class=\"entity\" style=\"background: purple; padding: 0.45em 0.6em; margin: 0 0.25em; line-height: 1; border-radius: 0.35em;\">\n",
       "    Xander Wise\n",
       "    <span style=\"font-size: 0.8em; font-weight: bold; line-height: 1; border-radius: 0.35em; vertical-align: middle; margin-left: 0.5rem\">PERSON</span>\n",
       "</mark>\n",
       ", in seeing your vision through to completion, to know you’ve created a piece of art, no matter how many copies you sell. “It’s months and months of doing panels and fixing mistakes,” says the self-taught Cambridge resident, who sold 40 copies of his mystical war comic Forgotten Grunt: The Undead Soldier, inspired by the movies Platoon and Apocalypse Now. “But as soon as you do all that work and have that copy in your hands, you realize it’s all been worth it. There have been a few times where I was feeling unmotivated, but as soon as I saw how it turned out I was more than happy.” “If \n",
       "<mark class=\"entity\" style=\"background: purple; padding: 0.45em 0.6em; margin: 0 0.25em; line-height: 1; border-radius: 0.35em;\">\n",
       "    Alfonso\n",
       "    <span style=\"font-size: 0.8em; font-weight: bold; line-height: 1; border-radius: 0.35em; vertical-align: middle; margin-left: 0.5rem\">PERSON</span>\n",
       "</mark>\n",
       " wasn’t publishing local comics, I don’t think \n",
       "<mark class=\"entity\" style=\"background: purple; padding: 0.45em 0.6em; margin: 0 0.25em; line-height: 1; border-radius: 0.35em;\">\n",
       "    Xander\n",
       "    <span style=\"font-size: 0.8em; font-weight: bold; line-height: 1; border-radius: 0.35em; vertical-align: middle; margin-left: 0.5rem\">PERSON</span>\n",
       "</mark>\n",
       " would be doing what he’s doing,” says \n",
       "<mark class=\"entity\" style=\"background: purple; padding: 0.45em 0.6em; margin: 0 0.25em; line-height: 1; border-radius: 0.35em;\">\n",
       "    Wise\n",
       "    <span style=\"font-size: 0.8em; font-weight: bold; line-height: 1; border-radius: 0.35em; vertical-align: middle; margin-left: 0.5rem\">PERSON</span>\n",
       "</mark>\n",
       "’s dad, \n",
       "<mark class=\"entity\" style=\"background: purple; padding: 0.45em 0.6em; margin: 0 0.25em; line-height: 1; border-radius: 0.35em;\">\n",
       "    Darrin\n",
       "    <span style=\"font-size: 0.8em; font-weight: bold; line-height: 1; border-radius: 0.35em; vertical-align: middle; margin-left: 0.5rem\">PERSON</span>\n",
       "</mark>\n",
       ". For \n",
       "<mark class=\"entity\" style=\"background: purple; padding: 0.45em 0.6em; margin: 0 0.25em; line-height: 1; border-radius: 0.35em;\">\n",
       "    Espinos\n",
       "    <span style=\"font-size: 0.8em; font-weight: bold; line-height: 1; border-radius: 0.35em; vertical-align: middle; margin-left: 0.5rem\">PERSON</span>\n",
       "</mark>\n",
       ", who understands the challenges of ambition without unlimited financial backing, he’s simply filling a market niche. “You gotta start somewhere,” he says matter-of-factly. “Nobody starts out selling 50,000 copies. Every artist has a different definition of success.” Email: jrubinoff@therecord.com</div></span>"
      ],
      "text/plain": [
       "<IPython.core.display.HTML object>"
      ]
     },
     "metadata": {},
     "output_type": "display_data"
    }
   ],
   "source": [
    "options = {\"ents\": [\"PERSON\"],\n",
    "          \"colors\": {\"PERSON\": \"purple\"}}\n",
    "\n",
    "displacy.render(doc2, style=\"ent\", options=options, jupyter=True)"
   ]
  },
  {
   "cell_type": "markdown",
   "id": "022e72e1",
   "metadata": {},
   "source": [
    "#### Document 3 Visualization"
   ]
  },
  {
   "cell_type": "code",
   "execution_count": 32,
   "id": "e92aace8",
   "metadata": {},
   "outputs": [
    {
     "data": {
      "text/html": [
       "<span class=\"tex2jax_ignore\"><div class=\"entities\" style=\"line-height: 2.5; direction: ltr\">OTTAWA — Conservative Leader \n",
       "<mark class=\"entity\" style=\"background: red; padding: 0.45em 0.6em; margin: 0 0.25em; line-height: 1; border-radius: 0.35em;\">\n",
       "    Andrew Scheer\n",
       "    <span style=\"font-size: 0.8em; font-weight: bold; line-height: 1; border-radius: 0.35em; vertical-align: middle; margin-left: 0.5rem\">PERSON</span>\n",
       "</mark>\n",
       " says Prime Minister \n",
       "<mark class=\"entity\" style=\"background: red; padding: 0.45em 0.6em; margin: 0 0.25em; line-height: 1; border-radius: 0.35em;\">\n",
       "    Justin Trudeau\n",
       "    <span style=\"font-size: 0.8em; font-weight: bold; line-height: 1; border-radius: 0.35em; vertical-align: middle; margin-left: 0.5rem\">PERSON</span>\n",
       "</mark>\n",
       " is the most divisive prime minister in the history of Canada. </br> \n",
       "<mark class=\"entity\" style=\"background: red; padding: 0.45em 0.6em; margin: 0 0.25em; line-height: 1; border-radius: 0.35em;\">\n",
       "    Scheer\n",
       "    <span style=\"font-size: 0.8em; font-weight: bold; line-height: 1; border-radius: 0.35em; vertical-align: middle; margin-left: 0.5rem\">PERSON</span>\n",
       "</mark>\n",
       " is lashing out at \n",
       "<mark class=\"entity\" style=\"background: red; padding: 0.45em 0.6em; margin: 0 0.25em; line-height: 1; border-radius: 0.35em;\">\n",
       "    Trudeau\n",
       "    <span style=\"font-size: 0.8em; font-weight: bold; line-height: 1; border-radius: 0.35em; vertical-align: middle; margin-left: 0.5rem\">PERSON</span>\n",
       "</mark>\n",
       " and the Liberal party for dismissing anyone who disagrees with them, particularly anyone who has questions about Canada’s immigration system. </br> READ MORE: Federal budget won’t be balanced until 2040, Finance Department says. </br> “I actually think \n",
       "<mark class=\"entity\" style=\"background: red; padding: 0.45em 0.6em; margin: 0 0.25em; line-height: 1; border-radius: 0.35em;\">\n",
       "    Justin Trudeau’s\n",
       "    <span style=\"font-size: 0.8em; font-weight: bold; line-height: 1; border-radius: 0.35em; vertical-align: middle; margin-left: 0.5rem\">PERSON</span>\n",
       "</mark>\n",
       " approach to label people who have legitimate concerns with his issues as being un-Canadian and intolerant, that is very dangerous,” said \n",
       "<mark class=\"entity\" style=\"background: red; padding: 0.45em 0.6em; margin: 0 0.25em; line-height: 1; border-radius: 0.35em;\">\n",
       "    Scheer\n",
       "    <span style=\"font-size: 0.8em; font-weight: bold; line-height: 1; border-radius: 0.35em; vertical-align: middle; margin-left: 0.5rem\">PERSON</span>\n",
       "</mark>\n",
       ". </br> His comments come several days after \n",
       "<mark class=\"entity\" style=\"background: red; padding: 0.45em 0.6em; margin: 0 0.25em; line-height: 1; border-radius: 0.35em;\">\n",
       "    Trudeau\n",
       "    <span style=\"font-size: 0.8em; font-weight: bold; line-height: 1; border-radius: 0.35em; vertical-align: middle; margin-left: 0.5rem\">PERSON</span>\n",
       "</mark>\n",
       " told The Canadian Press that \n",
       "<mark class=\"entity\" style=\"background: red; padding: 0.45em 0.6em; margin: 0 0.25em; line-height: 1; border-radius: 0.35em;\">\n",
       "    Scheer\n",
       "    <span style=\"font-size: 0.8em; font-weight: bold; line-height: 1; border-radius: 0.35em; vertical-align: middle; margin-left: 0.5rem\">PERSON</span>\n",
       "</mark>\n",
       " and the Conservatives were playing a dangerous game themselves by lying to Canadians to drum up fear over immigration. </br> WATCH: \n",
       "<mark class=\"entity\" style=\"background: red; padding: 0.45em 0.6em; margin: 0 0.25em; line-height: 1; border-radius: 0.35em;\">\n",
       "    Scheer\n",
       "    <span style=\"font-size: 0.8em; font-weight: bold; line-height: 1; border-radius: 0.35em; vertical-align: middle; margin-left: 0.5rem\">PERSON</span>\n",
       "</mark>\n",
       " receives warm welcome at oil rally. </br> Both leaders are issuing similar accusations at the same time as they are promising to run positive, upbeat campaigns for the 2019 election. </br> READ MORE: Western Canadian grassroots group plans ‘Convoy to Ottawa’ to push pipelines. </br> Following their 2015 election loss the Conservatives acknowledged they had taken on a more negative tone and pledged to brighten up by the next campaign. In an interview in front of a roaring fire in the living room of his official residence in Ottawa, \n",
       "<mark class=\"entity\" style=\"background: red; padding: 0.45em 0.6em; margin: 0 0.25em; line-height: 1; border-radius: 0.35em;\">\n",
       "    Scheer\n",
       "    <span style=\"font-size: 0.8em; font-weight: bold; line-height: 1; border-radius: 0.35em; vertical-align: middle; margin-left: 0.5rem\">PERSON</span>\n",
       "</mark>\n",
       " said he is confident the party has learned from that mistake. </br> If any of his MPs resort to name-calling — Calgary MP \n",
       "<mark class=\"entity\" style=\"background: red; padding: 0.45em 0.6em; margin: 0 0.25em; line-height: 1; border-radius: 0.35em;\">\n",
       "    Michelle Rempel\n",
       "    <span style=\"font-size: 0.8em; font-weight: bold; line-height: 1; border-radius: 0.35em; vertical-align: middle; margin-left: 0.5rem\">PERSON</span>\n",
       "</mark>\n",
       " earlier this week called Immigration Minister \n",
       "<mark class=\"entity\" style=\"background: red; padding: 0.45em 0.6em; margin: 0 0.25em; line-height: 1; border-radius: 0.35em;\">\n",
       "    Ahmed Hussen\n",
       "    <span style=\"font-size: 0.8em; font-weight: bold; line-height: 1; border-radius: 0.35em; vertical-align: middle; margin-left: 0.5rem\">PERSON</span>\n",
       "</mark>\n",
       " a “chicken” on Twitter, for example — \n",
       "<mark class=\"entity\" style=\"background: red; padding: 0.45em 0.6em; margin: 0 0.25em; line-height: 1; border-radius: 0.35em;\">\n",
       "    Scheer\n",
       "    <span style=\"font-size: 0.8em; font-weight: bold; line-height: 1; border-radius: 0.35em; vertical-align: middle; margin-left: 0.5rem\">PERSON</span>\n",
       "</mark>\n",
       " insists it is in reaction to the Liberals and doesn’t apologize for it. </br> Also, you don’t show up to debate me. You had your cronies vote down a motion to appear before our committee to get grilled on immigration levels. Every time you appear to “debate”, you are condescending and smug your defence of the indefensible. Bring it, but you won’t. Chicken. https://t.co/oI5iCg4bU3 — \n",
       "<mark class=\"entity\" style=\"background: red; padding: 0.45em 0.6em; margin: 0 0.25em; line-height: 1; border-radius: 0.35em;\">\n",
       "    Michelle Rempel\n",
       "    <span style=\"font-size: 0.8em; font-weight: bold; line-height: 1; border-radius: 0.35em; vertical-align: middle; margin-left: 0.5rem\">PERSON</span>\n",
       "</mark>\n",
       " (@MichelleRempel) December 18, 2018. </br> “When we’re the victims of insulting language and attacks it’s obviously going to evoke a response,” he said. </br> But he said the general message the Conservatives will put to Canadians “will have a positive aspirational aspect to it.”. </br> READ MORE: ‘Domestic realities,’ not #WelcomeToCanada tweet, to blame for migrants ‘fleeing’ U.S.: \n",
       "<mark class=\"entity\" style=\"background: red; padding: 0.45em 0.6em; margin: 0 0.25em; line-height: 1; border-radius: 0.35em;\">\n",
       "    Trudeau\n",
       "    <span style=\"font-size: 0.8em; font-weight: bold; line-height: 1; border-radius: 0.35em; vertical-align: middle; margin-left: 0.5rem\">PERSON</span>\n",
       "</mark>\n",
       ". </br> It is on \n",
       "<mark class=\"entity\" style=\"background: red; padding: 0.45em 0.6em; margin: 0 0.25em; line-height: 1; border-radius: 0.35em;\">\n",
       "    Trudeau\n",
       "    <span style=\"font-size: 0.8em; font-weight: bold; line-height: 1; border-radius: 0.35em; vertical-align: middle; margin-left: 0.5rem\">PERSON</span>\n",
       "</mark>\n",
       "’s watch, \n",
       "<mark class=\"entity\" style=\"background: red; padding: 0.45em 0.6em; margin: 0 0.25em; line-height: 1; border-radius: 0.35em;\">\n",
       "    Scheer\n",
       "    <span style=\"font-size: 0.8em; font-weight: bold; line-height: 1; border-radius: 0.35em; vertical-align: middle; margin-left: 0.5rem\">PERSON</span>\n",
       "</mark>\n",
       " said, that the country is facing regional divisions and jurisdictional battles over oil pipelines. And it is on \n",
       "<mark class=\"entity\" style=\"background: red; padding: 0.45em 0.6em; margin: 0 0.25em; line-height: 1; border-radius: 0.35em;\">\n",
       "    Trudeau\n",
       "    <span style=\"font-size: 0.8em; font-weight: bold; line-height: 1; border-radius: 0.35em; vertical-align: middle; margin-left: 0.5rem\">PERSON</span>\n",
       "</mark>\n",
       "’s watch, he went on, that what the Conservatives call “illegal border crossers” have become a major problem, Over 38,000 irregular migrants who originate from places like Haiti, Somalia and El Salvador have arrived in Canada since the beginning of 2017. </br> \n",
       "<mark class=\"entity\" style=\"background: red; padding: 0.45em 0.6em; margin: 0 0.25em; line-height: 1; border-radius: 0.35em;\">\n",
       "    Scheer\n",
       "    <span style=\"font-size: 0.8em; font-weight: bold; line-height: 1; border-radius: 0.35em; vertical-align: middle; margin-left: 0.5rem\">PERSON</span>\n",
       "</mark>\n",
       " said he and his party are not anti-immigration, they are anti-cheaters. </br> WATCH: Canadians’ detainment demonstrate’s \n",
       "<mark class=\"entity\" style=\"background: red; padding: 0.45em 0.6em; margin: 0 0.25em; line-height: 1; border-radius: 0.35em;\">\n",
       "    Trudeau\n",
       "    <span style=\"font-size: 0.8em; font-weight: bold; line-height: 1; border-radius: 0.35em; vertical-align: middle; margin-left: 0.5rem\">PERSON</span>\n",
       "</mark>\n",
       "’s ‘naïve approach’ to relations with China: \n",
       "<mark class=\"entity\" style=\"background: red; padding: 0.45em 0.6em; margin: 0 0.25em; line-height: 1; border-radius: 0.35em;\">\n",
       "    Scheer\n",
       "    <span style=\"font-size: 0.8em; font-weight: bold; line-height: 1; border-radius: 0.35em; vertical-align: middle; margin-left: 0.5rem\">PERSON</span>\n",
       "</mark>\n",
       ". </br> “The Conservative party believes Canada is stronger for being able to welcome people from all over the world. We are proud of being in a country that has the ability to welcome people who are facing persecution and fleeing civil war and genocide. But in order to be able to continue to have that type of a system we have to maintain the confidence of Canadians in it. We have to make sure people come to Canada the right way,” he said. </br> READ MORE: It’s advantage Liberals going into 2019, with Conservatives needing a \n",
       "<mark class=\"entity\" style=\"background: red; padding: 0.45em 0.6em; margin: 0 0.25em; line-height: 1; border-radius: 0.35em;\">\n",
       "    Trudeau\n",
       "    <span style=\"font-size: 0.8em; font-weight: bold; line-height: 1; border-radius: 0.35em; vertical-align: middle; margin-left: 0.5rem\">PERSON</span>\n",
       "</mark>\n",
       " stumble: Ipsos poll. </br> A spokeswoman for \n",
       "<mark class=\"entity\" style=\"background: red; padding: 0.45em 0.6em; margin: 0 0.25em; line-height: 1; border-radius: 0.35em;\">\n",
       "    Trudeau\n",
       "    <span style=\"font-size: 0.8em; font-weight: bold; line-height: 1; border-radius: 0.35em; vertical-align: middle; margin-left: 0.5rem\">PERSON</span>\n",
       "</mark>\n",
       " said he is not going to shy away from pointing out inaccuracies or falsehoods in Conservative messages. </br> “Canadians clearly rejected \n",
       "<mark class=\"entity\" style=\"background: red; padding: 0.45em 0.6em; margin: 0 0.25em; line-height: 1; border-radius: 0.35em;\">\n",
       "    Stephen Harper’s\n",
       "    <span style=\"font-size: 0.8em; font-weight: bold; line-height: 1; border-radius: 0.35em; vertical-align: middle; margin-left: 0.5rem\">PERSON</span>\n",
       "</mark>\n",
       " divisive approach in the last election, which is the same approach the Conservatives are relying on now,” said \n",
       "<mark class=\"entity\" style=\"background: red; padding: 0.45em 0.6em; margin: 0 0.25em; line-height: 1; border-radius: 0.35em;\">\n",
       "    Eleanore Catenaro\n",
       "    <span style=\"font-size: 0.8em; font-weight: bold; line-height: 1; border-radius: 0.35em; vertical-align: middle; margin-left: 0.5rem\">PERSON</span>\n",
       "</mark>\n",
       ". “Whether it is spreading falsehoods about immigration, ignoring the science behind climate change, or engaging in personal attacks, Mr. \n",
       "<mark class=\"entity\" style=\"background: red; padding: 0.45em 0.6em; margin: 0 0.25em; line-height: 1; border-radius: 0.35em;\">\n",
       "    Scheer\n",
       "    <span style=\"font-size: 0.8em; font-weight: bold; line-height: 1; border-radius: 0.35em; vertical-align: middle; margin-left: 0.5rem\">PERSON</span>\n",
       "</mark>\n",
       " and the Conservatives are continuing to play up people’s fears and anxieties for short-term political gain.”. </br> WATCH: \n",
       "<mark class=\"entity\" style=\"background: red; padding: 0.45em 0.6em; margin: 0 0.25em; line-height: 1; border-radius: 0.35em;\">\n",
       "    Trudeau\n",
       "    <span style=\"font-size: 0.8em; font-weight: bold; line-height: 1; border-radius: 0.35em; vertical-align: middle; margin-left: 0.5rem\">PERSON</span>\n",
       "</mark>\n",
       " discusses Alberta oil crisis and Western alienation. </br> \n",
       "<mark class=\"entity\" style=\"background: red; padding: 0.45em 0.6em; margin: 0 0.25em; line-height: 1; border-radius: 0.35em;\">\n",
       "    Scheer\n",
       "    <span style=\"font-size: 0.8em; font-weight: bold; line-height: 1; border-radius: 0.35em; vertical-align: middle; margin-left: 0.5rem\">PERSON</span>\n",
       "</mark>\n",
       "’s stance against the recent United Nations Global Compact for Safe, Orderly and Regular Migration was one of the things that provoked anger in \n",
       "<mark class=\"entity\" style=\"background: red; padding: 0.45em 0.6em; margin: 0 0.25em; line-height: 1; border-radius: 0.35em;\">\n",
       "    Trudeau\n",
       "    <span style=\"font-size: 0.8em; font-weight: bold; line-height: 1; border-radius: 0.35em; vertical-align: middle; margin-left: 0.5rem\">PERSON</span>\n",
       "</mark>\n",
       ". \n",
       "<mark class=\"entity\" style=\"background: red; padding: 0.45em 0.6em; margin: 0 0.25em; line-height: 1; border-radius: 0.35em;\">\n",
       "    Trudeau\n",
       "    <span style=\"font-size: 0.8em; font-weight: bold; line-height: 1; border-radius: 0.35em; vertical-align: middle; margin-left: 0.5rem\">PERSON</span>\n",
       "</mark>\n",
       " said the Conservatives are flat-out lying when they say the agreement overrides Canada’s sovereignty to make decisions about its immigration system or will force media to take specific positions on immigration. </br> READ MORE: Some politicians trying to ‘exploit’ Western alienation over Trans Mountain: \n",
       "<mark class=\"entity\" style=\"background: red; padding: 0.45em 0.6em; margin: 0 0.25em; line-height: 1; border-radius: 0.35em;\">\n",
       "    Trudeau\n",
       "    <span style=\"font-size: 0.8em; font-weight: bold; line-height: 1; border-radius: 0.35em; vertical-align: middle; margin-left: 0.5rem\">PERSON</span>\n",
       "</mark>\n",
       ". </br> Several immigration lawyers and experts say the compact is not binding and mainly is an attempt to help the world bring order and consistency to the growing numbers of migrants fleeing war, persecution, famine or extreme weather. </br> \n",
       "<mark class=\"entity\" style=\"background: red; padding: 0.45em 0.6em; margin: 0 0.25em; line-height: 1; border-radius: 0.35em;\">\n",
       "    Scheer\n",
       "    <span style=\"font-size: 0.8em; font-weight: bold; line-height: 1; border-radius: 0.35em; vertical-align: middle; margin-left: 0.5rem\">PERSON</span>\n",
       "</mark>\n",
       " said when \n",
       "<mark class=\"entity\" style=\"background: red; padding: 0.45em 0.6em; margin: 0 0.25em; line-height: 1; border-radius: 0.35em;\">\n",
       "    Trudeau\n",
       "    <span style=\"font-size: 0.8em; font-weight: bold; line-height: 1; border-radius: 0.35em; vertical-align: middle; margin-left: 0.5rem\">PERSON</span>\n",
       "</mark>\n",
       " and other Liberals dismiss any concerns with the compact out of hand, or try to tie people who challenge it to extremist groups because they have similar opinions on that subject, he is insulting not just the Conservatives but hundreds of thousands of Canadians who have the same questions. </br> “People who have those legitimate concerns deserve to be spoken to with respect and have their concerns taken into account, not brushed aside with insulting labels,” \n",
       "<mark class=\"entity\" style=\"background: red; padding: 0.45em 0.6em; margin: 0 0.25em; line-height: 1; border-radius: 0.35em;\">\n",
       "    Scheer\n",
       "    <span style=\"font-size: 0.8em; font-weight: bold; line-height: 1; border-radius: 0.35em; vertical-align: middle; margin-left: 0.5rem\">PERSON</span>\n",
       "</mark>\n",
       " said. “That’s I think a very dangerous thing to do. “It really evokes a negative reaction.”</div></span>"
      ],
      "text/plain": [
       "<IPython.core.display.HTML object>"
      ]
     },
     "metadata": {},
     "output_type": "display_data"
    }
   ],
   "source": [
    "options = {\"ents\": [\"PERSON\"],\n",
    "          \"colors\": {\"PERSON\": \"red\"}}\n",
    "\n",
    "displacy.render(doc3, style=\"ent\", options=options, jupyter=True)"
   ]
  },
  {
   "cell_type": "markdown",
   "id": "1bed9455",
   "metadata": {},
   "source": [
    "#### Document 4 Visualization"
   ]
  },
  {
   "cell_type": "code",
   "execution_count": 34,
   "id": "ef8ad8b4",
   "metadata": {},
   "outputs": [
    {
     "data": {
      "text/html": [
       "<span class=\"tex2jax_ignore\"><div class=\"entities\" style=\"line-height: 2.5; direction: ltr\">Open this photo in gallery A cyclist rides by a shuttered homes in the West Point Grey neighbourhood area of Vancouver on Oct. 29, 2015. \n",
       "<mark class=\"entity\" style=\"background: blue; padding: 0.45em 0.6em; margin: 0 0.25em; line-height: 1; border-radius: 0.35em;\">\n",
       "    Ben Nelms\n",
       "    <span style=\"font-size: 0.8em; font-weight: bold; line-height: 1; border-radius: 0.35em; vertical-align: middle; margin-left: 0.5rem\">PERSON</span>\n",
       "</mark>\n",
       ". </br> Last week, Vancouver’s new city council voted resoundingly to send a letter to the provincial government demanding it repeal the so-called school tax. A more accurate label for the new tax, which is not earmarked for schools but headed for general revenue, would have been a wealth or mansion tax. It hits property-rich homeowners with houses worth more than $3-million. The proceeds will be collected along with Vancouver property and regular school taxes in 2019. </br> Council’s motion is as symbolic as branding Vancouver a nuclear-free zone. There’s nothing council can do except add its voice to the howl coming from residents in Vancouver’s tony West Side neighbourhoods. Some were so incensed when the tax was announced they uncharacteristically hoisted signs and banners at a May protest wearing summer casual shoes nicer than most. Residents in \n",
       "<mark class=\"entity\" style=\"background: blue; padding: 0.45em 0.6em; margin: 0 0.25em; line-height: 1; border-radius: 0.35em;\">\n",
       "    David Eby’s\n",
       "    <span style=\"font-size: 0.8em; font-weight: bold; line-height: 1; border-radius: 0.35em; vertical-align: middle; margin-left: 0.5rem\">PERSON</span>\n",
       "</mark>\n",
       " wealthy Point Grey riding are so angry many people think the popular Attorney-General might lose his seat come the next election. </br> Bifurcated property taxes are new to Vancouver, so it is understandable that those hit by the tax feel they are unfair. Some are seniors with little or no income living in homes they bought years ago and feel affronted at being singled out with a school-tax surcharge on top of city property taxes that are going up by 4.5 per cent. They can, of course, defer paying their taxes, but most balk at the idea. However, the tax is popular among vast numbers of British Columbians who can no longer dream of buying a home at today’s inflated prices. </br> Story continues below advertisement. </br> Most of the city council votes broke down as you might expect. Members of the Non-Partisan Association showed their alignment with the provincial Liberals by voting yes. Mayor \n",
       "<mark class=\"entity\" style=\"background: blue; padding: 0.45em 0.6em; margin: 0 0.25em; line-height: 1; border-radius: 0.35em;\">\n",
       "    Kennedy Stewart\n",
       "    <span style=\"font-size: 0.8em; font-weight: bold; line-height: 1; border-radius: 0.35em; vertical-align: middle; margin-left: 0.5rem\">PERSON</span>\n",
       "</mark>\n",
       " voted true to his NDP roots and was joined by \n",
       "<mark class=\"entity\" style=\"background: blue; padding: 0.45em 0.6em; margin: 0 0.25em; line-height: 1; border-radius: 0.35em;\">\n",
       "    Christine Boyle\n",
       "    <span style=\"font-size: 0.8em; font-weight: bold; line-height: 1; border-radius: 0.35em; vertical-align: middle; margin-left: 0.5rem\">PERSON</span>\n",
       "</mark>\n",
       " and \n",
       "<mark class=\"entity\" style=\"background: blue; padding: 0.45em 0.6em; margin: 0 0.25em; line-height: 1; border-radius: 0.35em;\">\n",
       "    Jean Swanson\n",
       "    <span style=\"font-size: 0.8em; font-weight: bold; line-height: 1; border-radius: 0.35em; vertical-align: middle; margin-left: 0.5rem\">PERSON</span>\n",
       "</mark>\n",
       " who are further to the left. And on this occasion, the three Green Party members swung the vote and sided with the NPA against the tax. </br> Green Party councillor \n",
       "<mark class=\"entity\" style=\"background: blue; padding: 0.45em 0.6em; margin: 0 0.25em; line-height: 1; border-radius: 0.35em;\">\n",
       "    Adriane Carr\n",
       "    <span style=\"font-size: 0.8em; font-weight: bold; line-height: 1; border-radius: 0.35em; vertical-align: middle; margin-left: 0.5rem\">PERSON</span>\n",
       "</mark>\n",
       " had campaigned against the school surcharge, so her stand was expected. While Vancouverites are confident about where the civic Green Party stands on environmental questions, they are still trying to get the feel for their views on social and economic issues. Will the two newest Green councillors, \n",
       "<mark class=\"entity\" style=\"background: blue; padding: 0.45em 0.6em; margin: 0 0.25em; line-height: 1; border-radius: 0.35em;\">\n",
       "    Pete Fry\n",
       "    <span style=\"font-size: 0.8em; font-weight: bold; line-height: 1; border-radius: 0.35em; vertical-align: middle; margin-left: 0.5rem\">PERSON</span>\n",
       "</mark>\n",
       " and \n",
       "<mark class=\"entity\" style=\"background: blue; padding: 0.45em 0.6em; margin: 0 0.25em; line-height: 1; border-radius: 0.35em;\">\n",
       "    Michael Wiebe\n",
       "    <span style=\"font-size: 0.8em; font-weight: bold; line-height: 1; border-radius: 0.35em; vertical-align: middle; margin-left: 0.5rem\">PERSON</span>\n",
       "</mark>\n",
       ", be at odds with Ms. \n",
       "<mark class=\"entity\" style=\"background: blue; padding: 0.45em 0.6em; margin: 0 0.25em; line-height: 1; border-radius: 0.35em;\">\n",
       "    Carr\n",
       "    <span style=\"font-size: 0.8em; font-weight: bold; line-height: 1; border-radius: 0.35em; vertical-align: middle; margin-left: 0.5rem\">PERSON</span>\n",
       "</mark>\n",
       ", who tends to support the status quo thereby favouring existing property owners? Or will they veer left and take up the charge for renters and those less privileged Vancouverites? Ms. \n",
       "<mark class=\"entity\" style=\"background: blue; padding: 0.45em 0.6em; margin: 0 0.25em; line-height: 1; border-radius: 0.35em;\">\n",
       "    Carr\n",
       "    <span style=\"font-size: 0.8em; font-weight: bold; line-height: 1; border-radius: 0.35em; vertical-align: middle; margin-left: 0.5rem\">PERSON</span>\n",
       "</mark>\n",
       " and Mr. \n",
       "<mark class=\"entity\" style=\"background: blue; padding: 0.45em 0.6em; margin: 0 0.25em; line-height: 1; border-radius: 0.35em;\">\n",
       "    Wiebe\n",
       "    <span style=\"font-size: 0.8em; font-weight: bold; line-height: 1; border-radius: 0.35em; vertical-align: middle; margin-left: 0.5rem\">PERSON</span>\n",
       "</mark>\n",
       " did not respond to calls on the question. </br> But Mr. \n",
       "<mark class=\"entity\" style=\"background: blue; padding: 0.45em 0.6em; margin: 0 0.25em; line-height: 1; border-radius: 0.35em;\">\n",
       "    Fry\n",
       "    <span style=\"font-size: 0.8em; font-weight: bold; line-height: 1; border-radius: 0.35em; vertical-align: middle; margin-left: 0.5rem\">PERSON</span>\n",
       "</mark>\n",
       ", who was stunned by the backlash after he voted in favour of the repeal letter, said in retrospect he feels voting yes was a misstep. He believes there is nothing wrong with charging wealthy people more tax and acknowledges the windfalls made solely by virtue of property ownership. </br> Before the vote, he texted back and forth with his colleague Mr. \n",
       "<mark class=\"entity\" style=\"background: blue; padding: 0.45em 0.6em; margin: 0 0.25em; line-height: 1; border-radius: 0.35em;\">\n",
       "    Wiebe\n",
       "    <span style=\"font-size: 0.8em; font-weight: bold; line-height: 1; border-radius: 0.35em; vertical-align: middle; margin-left: 0.5rem\">PERSON</span>\n",
       "</mark>\n",
       ", who also had reservations about voting yes. Ultimately, they decided to side with Ms. \n",
       "<mark class=\"entity\" style=\"background: blue; padding: 0.45em 0.6em; margin: 0 0.25em; line-height: 1; border-radius: 0.35em;\">\n",
       "    Carr\n",
       "    <span style=\"font-size: 0.8em; font-weight: bold; line-height: 1; border-radius: 0.35em; vertical-align: middle; margin-left: 0.5rem\">PERSON</span>\n",
       "</mark>\n",
       ", the veteran Green councillor. It wasn’t worth a split, given that with her and all the NPA councillors on side, the vote was destined to win. </br> Mr. \n",
       "<mark class=\"entity\" style=\"background: blue; padding: 0.45em 0.6em; margin: 0 0.25em; line-height: 1; border-radius: 0.35em;\">\n",
       "    Fry\n",
       "    <span style=\"font-size: 0.8em; font-weight: bold; line-height: 1; border-radius: 0.35em; vertical-align: middle; margin-left: 0.5rem\">PERSON</span>\n",
       "</mark>\n",
       " says he voted yes to voice his objection to the province meddling in taxes collected by the city and proposed an amendment, which council accepted, to reflect that view. City requests to the province to change the Vancouver Charter are often rebuffed, he says, and he was upset by the provincial incursion onto city turf. </br> He now realizes that is not at all how the public saw it. His social media feed blew up with residents disappointed that he sided with the wealthy. Mr. \n",
       "<mark class=\"entity\" style=\"background: blue; padding: 0.45em 0.6em; margin: 0 0.25em; line-height: 1; border-radius: 0.35em;\">\n",
       "    Fry\n",
       "    <span style=\"font-size: 0.8em; font-weight: bold; line-height: 1; border-radius: 0.35em; vertical-align: middle; margin-left: 0.5rem\">PERSON</span>\n",
       "</mark>\n",
       " describes himself as the most left-leaning Green on council. “Why would I pander to the millionaires club?” He now calls it a rookie mistake. </br> For council as a whole, the motion was political gamesmanship, a reflection of political alignments along ideological lines. For the Greens it was a hint of far more challenging decisions to come on issues that don’t fall neatly into their environmental agenda. One of the most interesting things about 2019 will be watching them sort out where they stand. </br> Story continues below advertisement. </br> Story continues below advertisement. </br> \n",
       "<mark class=\"entity\" style=\"background: blue; padding: 0.45em 0.6em; margin: 0 0.25em; line-height: 1; border-radius: 0.35em;\">\n",
       "    Adrienne Tanner\n",
       "    <span style=\"font-size: 0.8em; font-weight: bold; line-height: 1; border-radius: 0.35em; vertical-align: middle; margin-left: 0.5rem\">PERSON</span>\n",
       "</mark>\n",
       " is a Vancouver journalist who writes about civic affairs.</div></span>"
      ],
      "text/plain": [
       "<IPython.core.display.HTML object>"
      ]
     },
     "metadata": {},
     "output_type": "display_data"
    }
   ],
   "source": [
    "options = {\"ents\": [\"PERSON\"],\n",
    "          \"colors\": {\"PERSON\": \"blue\"}}\n",
    "\n",
    "displacy.render(doc4, style=\"ent\", options=options, jupyter=True)"
   ]
  },
  {
   "cell_type": "markdown",
   "id": "466d71e0",
   "metadata": {},
   "source": [
    "#### Document 5 Visualization"
   ]
  },
  {
   "cell_type": "code",
   "execution_count": 35,
   "id": "7fb6a82e",
   "metadata": {},
   "outputs": [
    {
     "data": {
      "text/html": [
       "<span class=\"tex2jax_ignore\"><div class=\"entities\" style=\"line-height: 2.5; direction: ltr\"> CTV Vancouver. </br> An Abbotsford, B.C. couple that has been waiting nearly two years to bring their newly adopted son home from Africa has learned that the Canadian government is not prepared to grant the child citizenship. </br> \n",
       "<mark class=\"entity\" style=\"background: black; padding: 0.45em 0.6em; margin: 0 0.25em; line-height: 1; border-radius: 0.35em;\">\n",
       "    Kim\n",
       "    <span style=\"font-size: 0.8em; font-weight: bold; line-height: 1; border-radius: 0.35em; vertical-align: middle; margin-left: 0.5rem\">PERSON</span>\n",
       "</mark>\n",
       " and \n",
       "<mark class=\"entity\" style=\"background: black; padding: 0.45em 0.6em; margin: 0 0.25em; line-height: 1; border-radius: 0.35em;\">\n",
       "    Clark Moran\n",
       "    <span style=\"font-size: 0.8em; font-weight: bold; line-height: 1; border-radius: 0.35em; vertical-align: middle; margin-left: 0.5rem\">PERSON</span>\n",
       "</mark>\n",
       " received a letter this week from Immigration, Refugees and Citizenship Canada informing them that the federal department has concerns about two-year-old \n",
       "<mark class=\"entity\" style=\"background: black; padding: 0.45em 0.6em; margin: 0 0.25em; line-height: 1; border-radius: 0.35em;\">\n",
       "    Ayo\n",
       "    <span style=\"font-size: 0.8em; font-weight: bold; line-height: 1; border-radius: 0.35em; vertical-align: middle; margin-left: 0.5rem\">PERSON</span>\n",
       "</mark>\n",
       ", whom the couple claims they adopted from an orphanage in Nigeria and gained custody of in August. </br> &quot;Honestly, it feels like we're living our worst nightmare right now,&quot; \n",
       "<mark class=\"entity\" style=\"background: black; padding: 0.45em 0.6em; margin: 0 0.25em; line-height: 1; border-radius: 0.35em;\">\n",
       "    Kim\n",
       "    <span style=\"font-size: 0.8em; font-weight: bold; line-height: 1; border-radius: 0.35em; vertical-align: middle; margin-left: 0.5rem\">PERSON</span>\n",
       "</mark>\n",
       " told CTV News Friday. &quot;The fact that we are being accused right now of an unethical adoption is crazy.&quot;. </br> CTV News has learned that a third party has come forward with an allegation that \n",
       "<mark class=\"entity\" style=\"background: black; padding: 0.45em 0.6em; margin: 0 0.25em; line-height: 1; border-radius: 0.35em;\">\n",
       "    Ayo\n",
       "    <span style=\"font-size: 0.8em; font-weight: bold; line-height: 1; border-radius: 0.35em; vertical-align: middle; margin-left: 0.5rem\">PERSON</span>\n",
       "</mark>\n",
       "'s adoption came from a private residence and not an orphanage. </br> &quot;It does say that in the letter,&quot; \n",
       "<mark class=\"entity\" style=\"background: black; padding: 0.45em 0.6em; margin: 0 0.25em; line-height: 1; border-radius: 0.35em;\">\n",
       "    Kim\n",
       "    <span style=\"font-size: 0.8em; font-weight: bold; line-height: 1; border-radius: 0.35em; vertical-align: middle; margin-left: 0.5rem\">PERSON</span>\n",
       "</mark>\n",
       " confirmed, adding that &quot;I have no idea where that information came from because both \n",
       "<mark class=\"entity\" style=\"background: black; padding: 0.45em 0.6em; margin: 0 0.25em; line-height: 1; border-radius: 0.35em;\">\n",
       "    Clark\n",
       "    <span style=\"font-size: 0.8em; font-weight: bold; line-height: 1; border-radius: 0.35em; vertical-align: middle; margin-left: 0.5rem\">PERSON</span>\n",
       "</mark>\n",
       " and I were there in the office with all of the workers from the orphanage.&quot;. </br> \n",
       "<mark class=\"entity\" style=\"background: black; padding: 0.45em 0.6em; margin: 0 0.25em; line-height: 1; border-radius: 0.35em;\">\n",
       "    Kim\n",
       "    <span style=\"font-size: 0.8em; font-weight: bold; line-height: 1; border-radius: 0.35em; vertical-align: middle; margin-left: 0.5rem\">PERSON</span>\n",
       "</mark>\n",
       " would not share a copy of the letter with CTV. </br> In a statement, IRCC did not reveal any details regarding the \n",
       "<mark class=\"entity\" style=\"background: black; padding: 0.45em 0.6em; margin: 0 0.25em; line-height: 1; border-radius: 0.35em;\">\n",
       "    Ayo\n",
       "    <span style=\"font-size: 0.8em; font-weight: bold; line-height: 1; border-radius: 0.35em; vertical-align: middle; margin-left: 0.5rem\">PERSON</span>\n",
       "</mark>\n",
       "'s paperwork, but said &quot;the Government of Canada has obligations under international conventions to ensure children are not abducted, bought or sold, or removed from their biological families without legal consent.&quot;. </br> The department added that &quot;in some cases, extra steps in the citizenship or immigration process may be needed to make sure the adoption meets all requirements of international adoption.&quot;. </br> The \n",
       "<mark class=\"entity\" style=\"background: black; padding: 0.45em 0.6em; margin: 0 0.25em; line-height: 1; border-radius: 0.35em;\">\n",
       "    Morans\n",
       "    <span style=\"font-size: 0.8em; font-weight: bold; line-height: 1; border-radius: 0.35em; vertical-align: middle; margin-left: 0.5rem\">PERSON</span>\n",
       "</mark>\n",
       "' story first made headlines in October, some three months after they first travelled to Africa to finalize the adoption. </br> According to \n",
       "<mark class=\"entity\" style=\"background: black; padding: 0.45em 0.6em; margin: 0 0.25em; line-height: 1; border-radius: 0.35em;\">\n",
       "    Kim\n",
       "    <span style=\"font-size: 0.8em; font-weight: bold; line-height: 1; border-radius: 0.35em; vertical-align: middle; margin-left: 0.5rem\">PERSON</span>\n",
       "</mark>\n",
       ", the Canadian high commission in Nigeria doesn't have an immigration office, so all adoptions out of that country have to be processed in Ghana. </br> Thinking that the immigration papers that would allow them to bring \n",
       "<mark class=\"entity\" style=\"background: black; padding: 0.45em 0.6em; margin: 0 0.25em; line-height: 1; border-radius: 0.35em;\">\n",
       "    Ayo\n",
       "    <span style=\"font-size: 0.8em; font-weight: bold; line-height: 1; border-radius: 0.35em; vertical-align: middle; margin-left: 0.5rem\">PERSON</span>\n",
       "</mark>\n",
       " back to B.C. wouldn't take more than a few weeks to be finalized, \n",
       "<mark class=\"entity\" style=\"background: black; padding: 0.45em 0.6em; margin: 0 0.25em; line-height: 1; border-radius: 0.35em;\">\n",
       "    Clark\n",
       "    <span style=\"font-size: 0.8em; font-weight: bold; line-height: 1; border-radius: 0.35em; vertical-align: middle; margin-left: 0.5rem\">PERSON</span>\n",
       "</mark>\n",
       " headed back to Canada while \n",
       "<mark class=\"entity\" style=\"background: black; padding: 0.45em 0.6em; margin: 0 0.25em; line-height: 1; border-radius: 0.35em;\">\n",
       "    Kim\n",
       "    <span style=\"font-size: 0.8em; font-weight: bold; line-height: 1; border-radius: 0.35em; vertical-align: middle; margin-left: 0.5rem\">PERSON</span>\n",
       "</mark>\n",
       " and their son remained in Accra. </br> It would be months, however, before the family got an update. </br> \n",
       "<mark class=\"entity\" style=\"background: black; padding: 0.45em 0.6em; margin: 0 0.25em; line-height: 1; border-radius: 0.35em;\">\n",
       "    Kim\n",
       "    <span style=\"font-size: 0.8em; font-weight: bold; line-height: 1; border-radius: 0.35em; vertical-align: middle; margin-left: 0.5rem\">PERSON</span>\n",
       "</mark>\n",
       " was forced to switch places with \n",
       "<mark class=\"entity\" style=\"background: black; padding: 0.45em 0.6em; margin: 0 0.25em; line-height: 1; border-radius: 0.35em;\">\n",
       "    Clark\n",
       "    <span style=\"font-size: 0.8em; font-weight: bold; line-height: 1; border-radius: 0.35em; vertical-align: middle; margin-left: 0.5rem\">PERSON</span>\n",
       "</mark>\n",
       " late last month after her multiple sclerosis flared up. </br> He is now in Ghana with \n",
       "<mark class=\"entity\" style=\"background: black; padding: 0.45em 0.6em; margin: 0 0.25em; line-height: 1; border-radius: 0.35em;\">\n",
       "    Ayo\n",
       "    <span style=\"font-size: 0.8em; font-weight: bold; line-height: 1; border-radius: 0.35em; vertical-align: middle; margin-left: 0.5rem\">PERSON</span>\n",
       "</mark>\n",
       " and she is back in B.C., but it's unclear what the family's future will look like. </br> &quot;If Canada doesn't grant him citizenship, what happens? They send him back to Nigeria to an orphanage? They take him from us even though he's legally our son?&quot; \n",
       "<mark class=\"entity\" style=\"background: black; padding: 0.45em 0.6em; margin: 0 0.25em; line-height: 1; border-radius: 0.35em;\">\n",
       "    Kim\n",
       "    <span style=\"font-size: 0.8em; font-weight: bold; line-height: 1; border-radius: 0.35em; vertical-align: middle; margin-left: 0.5rem\">PERSON</span>\n",
       "</mark>\n",
       " said. </br> IRCC has told CTV that under ideal circumstances, the two-step adoption and immigration process can take between six and eight months, but that timeframe can be as long as two years depending on the child's country of origin and other factors. </br> The \n",
       "<mark class=\"entity\" style=\"background: black; padding: 0.45em 0.6em; margin: 0 0.25em; line-height: 1; border-radius: 0.35em;\">\n",
       "    Morans\n",
       "    <span style=\"font-size: 0.8em; font-weight: bold; line-height: 1; border-radius: 0.35em; vertical-align: middle; margin-left: 0.5rem\">PERSON</span>\n",
       "</mark>\n",
       "' paperwork was received in February 2017. A year and 10 months later, the family's adoption process is at the top end of the government's estimated timeline, but has not exceeded it. </br> The Morans have 60 days to respond to the letter, and the IRCC stressed Friday that a final decision on \n",
       "<mark class=\"entity\" style=\"background: black; padding: 0.45em 0.6em; margin: 0 0.25em; line-height: 1; border-radius: 0.35em;\">\n",
       "    Ayo\n",
       "    <span style=\"font-size: 0.8em; font-weight: bold; line-height: 1; border-radius: 0.35em; vertical-align: middle; margin-left: 0.5rem\">PERSON</span>\n",
       "</mark>\n",
       "'s citizenship application has not yet been made. </br> \n",
       "<mark class=\"entity\" style=\"background: black; padding: 0.45em 0.6em; margin: 0 0.25em; line-height: 1; border-radius: 0.35em;\">\n",
       "    Kim\n",
       "    <span style=\"font-size: 0.8em; font-weight: bold; line-height: 1; border-radius: 0.35em; vertical-align: middle; margin-left: 0.5rem\">PERSON</span>\n",
       "</mark>\n",
       " said the family is working with an immigration lawyer as well as the adoption agency, whose name she would not reveal, as they weigh their options. </br> &quot;We're not giving up, but it feels really overwhelming to think about what this means and what they're trying to do to us right now,&quot; she said. </br> &quot;I can't believe that this is our life, that this is our story.&quot;. </br> With files from CTV Vancouver's \n",
       "<mark class=\"entity\" style=\"background: black; padding: 0.45em 0.6em; margin: 0 0.25em; line-height: 1; border-radius: 0.35em;\">\n",
       "    Ben Miljure\n",
       "    <span style=\"font-size: 0.8em; font-weight: bold; line-height: 1; border-radius: 0.35em; vertical-align: middle; margin-left: 0.5rem\">PERSON</span>\n",
       "</mark>\n",
       "</div></span>"
      ],
      "text/plain": [
       "<IPython.core.display.HTML object>"
      ]
     },
     "metadata": {},
     "output_type": "display_data"
    }
   ],
   "source": [
    "options = {\"ents\": [\"PERSON\"],\n",
    "          \"colors\": {\"PERSON\": \"black\"}}\n",
    "\n",
    "displacy.render(doc1, style=\"ent\", options=options, jupyter=True)"
   ]
  },
  {
   "cell_type": "markdown",
   "id": "fc11cc02",
   "metadata": {},
   "source": [
    "## Part 2: Run the quote extraction from Assignment 1\n",
    "I suggest using the Matcher quote extraction system from A1, but, if you implemented your own version, or improved on this one, feel free to use that instead."
   ]
  },
  {
   "cell_type": "code",
   "execution_count": 62,
   "id": "bb6ec7f9",
   "metadata": {},
   "outputs": [],
   "source": [
    "#import what we need for this\n",
    "from spacy.matcher import Matcher\n",
    "\n",
    "matcher = Matcher(nlp.vocab)"
   ]
  },
  {
   "cell_type": "code",
   "execution_count": 104,
   "id": "2b5d8b35",
   "metadata": {},
   "outputs": [
    {
     "name": "stdout",
     "output_type": "stream",
     "text": [
      "3\n",
      "(16432004385153140588, 115, 133) \"The fact that we are being accused right now of an unethical adoption is crazy.\"\n",
      "(16432004385153140588, 164, 174) \"It does say that in the letter,\"\n",
      "(16432004385153140588, 179, 209) \"I have no idea where that information came from because both Clark and I were there in the office with all of the workers from the orphanage.\"\n",
      "right now,\" Kim told CTV News Friday. \"The fact that we are being accused right now of an unethical adoption is crazy.\". \n",
      " CTV News has learned that a third party\n",
      "Kim\n",
      "1\n",
      "(16432004385153140588, 16, 23) 'God I am frustrated!'\n",
      "24\n",
      "he\n",
      "[Peter]\n"
     ]
    }
   ],
   "source": [
    "# we don't need to load the text again; use text1 from above\n",
    "\n",
    "matcher = Matcher(nlp.vocab)\n",
    "pattern_q = [{'ORTH': '\"'}, {'IS_ALPHA': True, \"OP\": \"+\"}, {'IS_PUNCT': True, \"OP\": \"*\"}, {'ORTH': '\"'}]\n",
    "matcher.add(\"QUOTES\", [pattern_q], greedy='LONGEST')\n",
    "doc = nlp(text1)\n",
    "matches_q = matcher(doc)\n",
    "matches_q.sort(key = lambda x: x[1])\n",
    "print (len(matches_q))\n",
    "for match in matches_q[:10]:\n",
    "    print (match, doc[match[1]:match[2]])\n",
    "\n",
    "#The first quote matched starts at 115 and ends at 133\n",
    "#(16432004385153140588, 115, 133) \"The fact that we are being accused right now of an unethical adoption is crazy.\"\n",
    "\n",
    "#Print ten tokens before & after\n",
    "print(doc[105:143])\n",
    "\n",
    "#Find person entity\n",
    "for ent in doc[105:143].ents:\n",
    "    if ent.label_ in [\"PERSON\"]:\n",
    "        print(ent.text)\n",
    "\n",
    "doc1 = nlp(\"Although he was very busy with his work, Peter had had enough of it. 'God I am frustrated!', he said. He and his wife decided they needed a holiday. They travelled to Spain because they loved the country very much.\")\n",
    "\n",
    "matcher = Matcher(nlp.vocab)\n",
    "pattern_q = [{\"ORTH\": \"'\"}, {'IS_ALPHA': True, \"OP\": \"+\"}, {'IS_PUNCT': True, \"OP\": \"*\"}, {\"ORTH\": \"'\"}]\n",
    "\n",
    "matcher.add(\"QUOTES\", [pattern_q], greedy='LONGEST')\n",
    "matches_q = matcher(doc1)\n",
    "matches_q.sort(key = lambda x: x[1])\n",
    "print (len(matches_q))\n",
    "for match in matches_q[:10]:\n",
    "    print (match, doc1[match[1]:match[2]])\n",
    "    \n",
    "counter = 6 \n",
    "pronounFound = 0\n",
    "\n",
    "# Find pronoun\n",
    "for word in doc1[6:33]:\n",
    "    if doc1[counter].text == \"he\":\n",
    "        print(counter)\n",
    "        pronounFound = counter\n",
    "        print(word)\n",
    "    counter += 1\n",
    "\n",
    "    \n",
    "# Find who that pronoun refers to\n",
    "print(doc1._.coref_chains.resolve(doc1[pronounFound]))"
   ]
  },
  {
   "cell_type": "code",
   "execution_count": null,
   "id": "a43ee0b8",
   "metadata": {},
   "outputs": [],
   "source": []
  }
 ],
 "metadata": {
  "kernelspec": {
   "display_name": "Python 3 (ipykernel)",
   "language": "python",
   "name": "python3"
  },
  "language_info": {
   "codemirror_mode": {
    "name": "ipython",
    "version": 3
   },
   "file_extension": ".py",
   "mimetype": "text/x-python",
   "name": "python",
   "nbconvert_exporter": "python",
   "pygments_lexer": "ipython3",
   "version": "3.9.12"
  }
 },
 "nbformat": 4,
 "nbformat_minor": 5
}
